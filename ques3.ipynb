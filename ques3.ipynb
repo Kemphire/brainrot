{
 "cells": [
  {
   "cell_type": "code",
   "execution_count": 1,
   "metadata": {},
   "outputs": [],
   "source": [
    "import numpy as np\n",
    "import pandas as pd"
   ]
  },
  {
   "cell_type": "code",
   "execution_count": null,
   "metadata": {},
   "outputs": [],
   "source": [
    "def replace_vlaues_by_percentage_of_null(df: pd.DataFrame, percentage: int):\n",
    "    num_row, num_col = df.shape\n",
    "\n",
    "    num_vlaues_to_replace = int(num_row * num_col * (percentage / 100))\n",
    "\n",
    "    indices = np.random.choice(num_row * num_col, num_vlaues_to_replace, replace=False)\n",
    "\n",
    "    flattened_df = df.values.flatten()\n",
    "    flattened_df[indices] = np.nan\n",
    "\n",
    "    # Reshape the flattened df\n",
    "\n",
    "    new_df = pd.DataFrame(\n",
    "        flattened_df.reshape(df.shape), columns=df.columns, index=df.index\n",
    "    )\n",
    "\n",
    "    return new_df\n",
    "\n",
    "\n",
    "df = pd.DataFrame(\n",
    "    {\n",
    "        \"a\": np.random.randint(1, 100, 50).astype(np.float64),\n",
    "        \"b\": np.random.randint(1, 100, 50).astype(np.float64),\n",
    "        \"c\": np.random.randint(1, 100, 50).astype(np.float64),\n",
    "    }\n",
    ")\n",
    "df = replace_vlaues_by_percentage_of_null(df,10)\n",
    "df.isnull().sum()"
   ]
  },
  {
   "cell_type": "code",
   "execution_count": null,
   "metadata": {},
   "outputs": [],
   "source": [
    "labels_to_delete = [label for label in df.columns if df[label].isnull().sum() > 5]\n",
    "df.drop(labels=labels_to_delete[0],inplace=True,axis=1)"
   ]
  },
  {
   "cell_type": "code",
   "execution_count": null,
   "metadata": {},
   "outputs": [],
   "source": [
    "df.drop(df.sum(axis=1).idxmax())"
   ]
  },
  {
   "cell_type": "code",
   "execution_count": null,
   "metadata": {},
   "outputs": [],
   "source": [
    "df.sort_values(by=df.columns[0])"
   ]
  },
  {
   "cell_type": "code",
   "execution_count": null,
   "metadata": {},
   "outputs": [],
   "source": [
    "df.a.drop_duplicates(inplace=True)\n",
    "df.a.isnull().sum()"
   ]
  },
  {
   "cell_type": "code",
   "execution_count": null,
   "metadata": {},
   "outputs": [],
   "source": [
    "df = pd.DataFrame(\n",
    "    {\n",
    "        \"a\": np.random.randint(1, 100, 50).astype(np.float64),\n",
    "        \"b\": np.random.randint(1, 100, 50).astype(np.float64),\n",
    "        \"c\": np.random.randint(1, 100, 50).astype(np.float64),\n",
    "    }\n",
    ")\n",
    "\n",
    "covariance_matrix = df.cov()\n",
    "correlation_matrix = df.corr()\n",
    "covariance_matrix.loc[\"b\",\"c\"]\n",
    "correlation_matrix.loc[\"a\",\"b\"]"
   ]
  },
  {
   "cell_type": "code",
   "execution_count": null,
   "metadata": {},
   "outputs": [],
   "source": [
    "bins = [10,20,30,40,50,60,61,70,71,80]\n",
    "\n",
    "discretized_b = pd.cut(df[\"b\"],bins=bins,right=True)\n",
    "discretized_b"
   ]
  }
 ],
 "metadata": {
  "kernelspec": {
   "display_name": ".venv",
   "language": "python",
   "name": "python3"
  },
  "language_info": {
   "codemirror_mode": {
    "name": "ipython",
    "version": 3
   },
   "file_extension": ".py",
   "mimetype": "text/x-python",
   "name": "python",
   "nbconvert_exporter": "python",
   "pygments_lexer": "ipython3",
   "version": "3.13.0rc2"
  }
 },
 "nbformat": 4,
 "nbformat_minor": 2
}
