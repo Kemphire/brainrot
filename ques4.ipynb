{
 "cells": [
  {
   "cell_type": "code",
   "execution_count": 2,
   "metadata": {},
   "outputs": [],
   "source": [
    "import pandas as pd\n",
    "\n",
    "df1: pd.DataFrame = pd.read_excel(\"workshop_1_attendance.xlsx\").sort_values(\"Date\")\n",
    "df2: pd.DataFrame = pd.read_excel(\"workshop_2_attendance.xlsx\").sort_values(\"Date\")\n"
   ]
  },
  {
   "cell_type": "markdown",
   "metadata": {},
   "source": [
    "# Ques1"
   ]
  },
  {
   "cell_type": "code",
   "execution_count": 7,
   "metadata": {},
   "outputs": [
    {
     "data": {
      "text/html": [
       "<div>\n",
       "<style scoped>\n",
       "    .dataframe tbody tr th:only-of-type {\n",
       "        vertical-align: middle;\n",
       "    }\n",
       "\n",
       "    .dataframe tbody tr th {\n",
       "        vertical-align: top;\n",
       "    }\n",
       "\n",
       "    .dataframe thead th {\n",
       "        text-align: right;\n",
       "    }\n",
       "</style>\n",
       "<table border=\"1\" class=\"dataframe\">\n",
       "  <thead>\n",
       "    <tr style=\"text-align: right;\">\n",
       "      <th></th>\n",
       "      <th>Name</th>\n",
       "      <th>Date_df1</th>\n",
       "      <th>Duration (minutes)_df1</th>\n",
       "      <th>Date_df2</th>\n",
       "      <th>Duration (minutes)_df2</th>\n",
       "    </tr>\n",
       "  </thead>\n",
       "  <tbody>\n",
       "    <tr>\n",
       "      <th>0</th>\n",
       "      <td>Alice</td>\n",
       "      <td>2024-10-01</td>\n",
       "      <td>50</td>\n",
       "      <td>2024-11-01</td>\n",
       "      <td>40</td>\n",
       "    </tr>\n",
       "    <tr>\n",
       "      <th>1</th>\n",
       "      <td>Bob</td>\n",
       "      <td>2024-10-02</td>\n",
       "      <td>40</td>\n",
       "      <td>2024-11-01</td>\n",
       "      <td>40</td>\n",
       "    </tr>\n",
       "    <tr>\n",
       "      <th>2</th>\n",
       "      <td>Eve</td>\n",
       "      <td>2024-10-02</td>\n",
       "      <td>50</td>\n",
       "      <td>2024-11-01</td>\n",
       "      <td>30</td>\n",
       "    </tr>\n",
       "    <tr>\n",
       "      <th>3</th>\n",
       "      <td>Diana</td>\n",
       "      <td>2024-10-02</td>\n",
       "      <td>50</td>\n",
       "      <td>2024-11-02</td>\n",
       "      <td>50</td>\n",
       "    </tr>\n",
       "  </tbody>\n",
       "</table>\n",
       "</div>"
      ],
      "text/plain": [
       "    Name   Date_df1  Duration (minutes)_df1   Date_df2  Duration (minutes)_df2\n",
       "0  Alice 2024-10-01                      50 2024-11-01                      40\n",
       "1    Bob 2024-10-02                      40 2024-11-01                      40\n",
       "2    Eve 2024-10-02                      50 2024-11-01                      30\n",
       "3  Diana 2024-10-02                      50 2024-11-02                      50"
      ]
     },
     "execution_count": 7,
     "metadata": {},
     "output_type": "execute_result"
    }
   ],
   "source": [
    "merged_df = pd.merge(\n",
    "    df1.drop_duplicates(subset=\"Name\"),\n",
    "    df2.drop_duplicates(subset=\"Name\"),\n",
    "    on=\"Name\",                                      \n",
    "    suffixes=(\"_df1\", \"_df2\"),\n",
    "    how=\"inner\"\n",
    ")\n",
    "merged_df"
   ]
  },
  {
   "cell_type": "markdown",
   "metadata": {},
   "source": [
    "# Ques2"
   ]
  },
  {
   "cell_type": "code",
   "execution_count": null,
   "metadata": {},
   "outputs": [],
   "source": [
    "merged_df = pd.merge(\n",
    "    df1.drop_duplicates(subset=\"Name\"),\n",
    "    df2.drop_duplicates(subset=\"Name\"),\n",
    "    on=\"Name\",                                      \n",
    "    suffixes=(\"_df1\", \"_df2\"),\n",
    "    indicator=True,\n",
    "    how=\"outer\",\n",
    ")\n",
    "print(merged_df)\n",
    "merged_df[merged_df[\"_merge\"] != \"both\"]"
   ]
  },
  {
   "cell_type": "markdown",
   "metadata": {},
   "source": [
    "# Ques3"
   ]
  },
  {
   "cell_type": "code",
   "execution_count": 9,
   "metadata": {},
   "outputs": [
    {
     "data": {
      "text/plain": [
       "30"
      ]
     },
     "execution_count": 9,
     "metadata": {},
     "output_type": "execute_result"
    }
   ],
   "source": [
    "merged_df = pd.concat([df1,df2],axis=0,ignore_index=True)\n",
    "len(merged_df)"
   ]
  },
  {
   "cell_type": "markdown",
   "metadata": {},
   "source": [
    "# Ques4"
   ]
  },
  {
   "cell_type": "code",
   "execution_count": null,
   "metadata": {},
   "outputs": [],
   "source": [
    "merged_df = pd.concat([df1,df2],axis=0,ignore_index=True)\n",
    "merged_df.set_index([\"Name\",\"Date\"],inplace=True)\n",
    "\n",
    "stats = merged_df.groupby([\"Name\",\"Date\"]).describe()\n",
    "stats"
   ]
  }
 ],
 "metadata": {
  "kernelspec": {
   "display_name": ".venv",
   "language": "python",
   "name": "python3"
  },
  "language_info": {
   "codemirror_mode": {
    "name": "ipython",
    "version": 3
   },
   "file_extension": ".py",
   "mimetype": "text/x-python",
   "name": "python",
   "nbconvert_exporter": "python",
   "pygments_lexer": "ipython3",
   "version": "3.13.0"
  }
 },
 "nbformat": 4,
 "nbformat_minor": 2
}
