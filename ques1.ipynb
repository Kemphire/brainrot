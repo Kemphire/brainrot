{
 "cells": [
  {
   "cell_type": "code",
   "execution_count": 1,
   "metadata": {},
   "outputs": [],
   "source": [
    "import numpy as np"
   ]
  },
  {
   "cell_type": "code",
   "execution_count": 5,
   "metadata": {},
   "outputs": [
    {
     "data": {
      "text/plain": [
       "array([0.00050197, 0.00936525, 0.00096753])"
      ]
     },
     "execution_count": 5,
     "metadata": {},
     "output_type": "execute_result"
    }
   ],
   "source": [
    "arr = np.random.rand(3,2)\n",
    "arr.mean(axis=1)\n",
    "arr.std(axis=1)\n",
    "arr.var(axis=1)"
   ]
  },
  {
   "cell_type": "code",
   "execution_count": 12,
   "metadata": {},
   "outputs": [],
   "source": [
    "m,n = int(input(\"Enter m: \")),int(input(\"Enter n: \"))"
   ]
  },
  {
   "cell_type": "code",
   "execution_count": 15,
   "metadata": {},
   "outputs": [
    {
     "data": {
      "text/plain": [
       "array([[1., 1., 1., 1.],\n",
       "       [1., 1., 1., 1.],\n",
       "       [1., 1., 1., 1.]])"
      ]
     },
     "execution_count": 15,
     "metadata": {},
     "output_type": "execute_result"
    }
   ],
   "source": [
    "\n",
    "arr = np.ones((m,n))\n",
    "arr.dtype\n",
    "arr.reshape((n,m))"
   ]
  },
  {
   "cell_type": "code",
   "execution_count": null,
   "metadata": {},
   "outputs": [
    {
     "data": {
      "text/plain": [
       "(array([3, 5]),)"
      ]
     },
     "execution_count": 39,
     "metadata": {},
     "output_type": "execute_result"
    }
   ],
   "source": [
    "arr = [0,5,6,np.nan,0,np.nan,1,0]\n",
    "arr = np.array(arr)\n",
    "\n",
    "zero_indices = np.where(arr == 0)[0]\n",
    "non_zero_indices = np.where((~np.isnan(arr)) & (arr != 0))[0]\n",
    "nan_indices = np.asarray(np.isnan(arr)).nonzero()\n"
   ]
  },
  {
   "cell_type": "code",
   "execution_count": null,
   "metadata": {},
   "outputs": [
    {
     "data": {
      "text/plain": [
       "(8, 8)"
      ]
     },
     "execution_count": 63,
     "metadata": {},
     "output_type": "execute_result"
    }
   ],
   "source": [
    "array1 = np.random.randint(low=5,high=100,size=[4,4])\n",
    "array2 = np.random.randint(low=5,high=100,size=[4,4])\n",
    "array3 = np.random.randint(low=5,high=100,size=[4,4])\n",
    "\n",
    "array4 = array2 - array3\n",
    "array5 = array1 * 2\n",
    "\n",
    "covar_1_4 = np.cov(array1,array4)\n",
    "covar_1_5 = np.cov(array1,array5)\n",
    "\n",
    "covar_1_4 = np.corrcoef(array1,array4)\n",
    "covar_1_5 = np.corrcoef(array1,array5)\n"
   ]
  },
  {
   "cell_type": "code",
   "execution_count": null,
   "metadata": {},
   "outputs": [],
   "source": [
    "arr1 = np.random.rand(1,10).reshape(1,10)[0]\n",
    "arr2 = np.random.random_sample((10,1)).reshape(1,10)[0]\n",
    "\n",
    "sumation = arr1[:len(arr1)//2 + 1] + arr1[:len(arr1)//2 + 1]\n",
    "product = arr1[:len(arr1)//2 + 1] * arr1[:len(arr1)//2 + 1]\n",
    "sumation,product"
   ]
  },
  {
   "cell_type": "code",
   "execution_count": 92,
   "metadata": {},
   "outputs": [
    {
     "data": {
      "text/plain": [
       "800"
      ]
     },
     "execution_count": 92,
     "metadata": {},
     "output_type": "execute_result"
    }
   ],
   "source": [
    "arr = np.random.random(size=(10,10))\n",
    "arr.nbytes"
   ]
  },
  {
   "cell_type": "code",
   "execution_count": null,
   "metadata": {},
   "outputs": [],
   "source": [
    "arr = np.random.randint(low=10,high=100,size=(m,n))\n",
    "\n",
    "def swap_rows(arr1: np.array,s1 :int,s2 :int) -> np.array:\n",
    "    temp = arr1[s1].copy()\n",
    "    arr1[s1] = arr1[s2]\n",
    "    arr1[s2] = temp\n",
    "    return arr1\n",
    "\n",
    "# print(arr)\n",
    "# swap_rows(arr,1,3)\n",
    "\n",
    "def reverse_column(arr: np.array, pos: int) -> np.array:\n",
    "    arr[:,1] = arr[::-1,1]\n",
    "    return arr \n",
    "\n",
    "print(arr)\n",
    "reverse_column(arr,1)\n"
   ]
  }
 ],
 "metadata": {
  "kernelspec": {
   "display_name": ".venv",
   "language": "python",
   "name": "python3"
  },
  "language_info": {
   "codemirror_mode": {
    "name": "ipython",
    "version": 3
   },
   "file_extension": ".py",
   "mimetype": "text/x-python",
   "name": "python",
   "nbconvert_exporter": "python",
   "pygments_lexer": "ipython3",
   "version": "3.13.0rc2"
  }
 },
 "nbformat": 4,
 "nbformat_minor": 2
}
